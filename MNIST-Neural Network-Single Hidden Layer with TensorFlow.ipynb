{
 "cells": [
  {
   "cell_type": "code",
   "execution_count": 1,
   "metadata": {},
   "outputs": [
    {
     "name": "stdout",
     "output_type": "stream",
     "text": [
      "1.2.1\n"
     ]
    }
   ],
   "source": [
    "# MNIST-Neural Network-Single Hidden Layer with Tensorflow\n",
    "\n",
    "import numpy as np\n",
    "import matplotlib.pyplot as plt\n",
    "from tensorflow.examples.tutorials.mnist import input_data\n",
    "import math\n",
    "import tensorflow as tf\n",
    "print(tf.__version__)\n",
    "\n",
    "%matplotlib inline"
   ]
  },
  {
   "cell_type": "code",
   "execution_count": 4,
   "metadata": {},
   "outputs": [
    {
     "name": "stdout",
     "output_type": "stream",
     "text": [
      "Extracting ../MNIST_data/train-images-idx3-ubyte.gz\n",
      "Extracting ../MNIST_data/train-labels-idx1-ubyte.gz\n",
      "Extracting ../MNIST_data/t10k-images-idx3-ubyte.gz\n",
      "Extracting ../MNIST_data/t10k-labels-idx1-ubyte.gz\n"
     ]
    }
   ],
   "source": [
    "## 1. MNIST handwritten digits image set\n",
    "mnist = input_data.read_data_sets(\"../MNIST_data/\", one_hot=True)"
   ]
  },
  {
   "cell_type": "code",
   "execution_count": 5,
   "metadata": {},
   "outputs": [
    {
     "name": "stdout",
     "output_type": "stream",
     "text": [
      "<class 'numpy.ndarray'> (55000, 784)\n",
      "<class 'numpy.ndarray'> (55000, 10)\n"
     ]
    }
   ],
   "source": [
    "### 1) Training Data\n",
    "print(type(mnist.train.images), mnist.train.images.shape)\n",
    "print(type(mnist.train.labels), mnist.train.labels.shape)"
   ]
  },
  {
   "cell_type": "code",
   "execution_count": 7,
   "metadata": {},
   "outputs": [
    {
     "data": {
      "image/png": "[encoded data removed]",
      "text/plain": [
       "<matplotlib.figure.Figure at 0x237d00a9ef0>"
      ]
     },
     "metadata": {},
     "output_type": "display_data"
    }
   ],
   "source": [
    "fig = plt.figure(figsize=(20, 5))\n",
    "for i in range(5):\n",
    "    img = np.array(mnist.train.images[i])\n",
    "    img.shape = (28, 28)\n",
    "    plt.subplot(150 + (i+1))\n",
    "    plt.imshow(img, cmap='gray')"
   ]
  },
  {
   "cell_type": "code",
   "execution_count": 9,
   "metadata": {},
   "outputs": [
    {
     "name": "stdout",
     "output_type": "stream",
     "text": [
      "<class 'numpy.ndarray'> (5000, 784)\n",
      "<class 'numpy.ndarray'> (5000, 10)\n"
     ]
    }
   ],
   "source": [
    "### 2) Validation Data\n",
    "print(type(mnist.validation.images), mnist.validation.images.shape)\n",
    "print(type(mnist.validation.labels), mnist.validation.labels.shape)"
   ]
  },
  {
   "cell_type": "code",
   "execution_count": 10,
   "metadata": {},
   "outputs": [
    {
     "name": "stdout",
     "output_type": "stream",
     "text": [
      "<class 'numpy.ndarray'> (10000, 784)\n",
      "<class 'numpy.ndarray'> (10000, 10)\n"
     ]
    }
   ],
   "source": [
    "### 3) Test Data\n",
    "print(type(mnist.test.images), mnist.test.images.shape)\n",
    "print(type(mnist.test.labels), mnist.test.labels.shape)"
   ]
  },
  {
   "cell_type": "code",
   "execution_count": 12,
   "metadata": {},
   "outputs": [
    {
     "name": "stdout",
     "output_type": "stream",
     "text": [
      "(2, 3) (1, 2) (1, 3)\n",
      "[[ 9 12 15]]\n",
      "\n",
      "(3,) (1, 3)\n",
      "[[19 32 45]]\n"
     ]
    }
   ],
   "source": [
    "## 2. Simple Neural Network Model (No Hidden Layer)\n",
    "### 1) Tensor Operation and Shape\n",
    "\n",
    "W_ = np.array([[1, 2, 3], [4, 5, 6]])  #shape of W: (2, 3)\n",
    "x_ = np.array([[1, 2]])                #shape of x: (1, 2)\n",
    "xW_ = np.dot(x_, W_)                     #shape of xW: (1, 3)\n",
    "print(W_.shape, x_.shape, xW_.shape)\n",
    "print(xW_)\n",
    "\n",
    "print()\n",
    "\n",
    "b_ = np.array([10, 20, 30])            #shape of b: (3,)\n",
    "u_ = xW_ + b_                            #shape of u: (1, 3) \n",
    "print(b_.shape, u_.shape)\n",
    "print(u_)"
   ]
  },
  {
   "cell_type": "code",
   "execution_count": 13,
   "metadata": {},
   "outputs": [
    {
     "name": "stdout",
     "output_type": "stream",
     "text": [
      "(100, 784)\n",
      "(100, 10)\n"
     ]
    }
   ],
   "source": [
    "### 2) Mini Batch\n",
    "batch_images, batch_labels = mnist.train.next_batch(100)\n",
    "print(batch_images.shape)\n",
    "#print batch_images\n",
    "print\n",
    "\n",
    "print(batch_labels.shape)\n",
    "#print batch_labels"
   ]
  },
  {
   "cell_type": "code",
   "execution_count": 14,
   "metadata": {},
   "outputs": [
    {
     "name": "stdout",
     "output_type": "stream",
     "text": [
      "(2, 3) (5, 2) (5, 3)\n",
      "[[ 9 12 15]\n",
      " [ 9 12 15]\n",
      " [ 9 12 15]\n",
      " [ 9 12 15]\n",
      " [ 9 12 15]]\n",
      "\n",
      "(3,) (5, 3)\n",
      "[[19 32 45]\n",
      " [19 32 45]\n",
      " [19 32 45]\n",
      " [19 32 45]\n",
      " [19 32 45]]\n"
     ]
    }
   ],
   "source": [
    "W_ = np.array([[1, 2, 3], [4, 5, 6]])                    #shape of W: (2, 3)\n",
    "x_ = np.array([[1, 2], [1, 2], [1, 2], [1, 2], [1, 2]])  #shape of x: (5, 2)\n",
    "xW_ = np.dot(x_, W_)                                       #shape of xW: (5, 3)\n",
    "print(W_.shape, x_.shape, xW_.shape)\n",
    "print(xW_)\n",
    "\n",
    "print()\n",
    "\n",
    "b_ = np.array([10, 20, 30])            #shape of b: (3,)\n",
    "u_ = xW_ + b_                            #shape of u: (1, 3) \n",
    "print(b_.shape, u_.shape)\n",
    "print(u_)"
   ]
  },
  {
   "cell_type": "code",
   "execution_count": 17,
   "metadata": {},
   "outputs": [
    {
     "name": "stdout",
     "output_type": "stream",
     "text": [
      "x - (?, 784)\n"
     ]
    }
   ],
   "source": [
    "### 3) Model Construction\n",
    "x = tf.placeholder(tf.float32, [None, 784])\n",
    "print(\"x -\", x.get_shape())"
   ]
  },
  {
   "cell_type": "code",
   "execution_count": 18,
   "metadata": {
    "collapsed": true
   },
   "outputs": [],
   "source": [
    "y_target = tf.placeholder(tf.float32, [None, 10])"
   ]
  },
  {
   "cell_type": "code",
   "execution_count": 19,
   "metadata": {},
   "outputs": [
    {
     "name": "stdout",
     "output_type": "stream",
     "text": [
      "W - (784, 10)\n",
      "b - (10,)\n"
     ]
    }
   ],
   "source": [
    "W = tf.Variable(tf.zeros([784, 10]))\n",
    "b = tf.Variable(tf.zeros([10]))\n",
    "print(\"W -\", W.get_shape())\n",
    "print(\"b -\", b.get_shape())"
   ]
  },
  {
   "cell_type": "code",
   "execution_count": 21,
   "metadata": {},
   "outputs": [
    {
     "name": "stdout",
     "output_type": "stream",
     "text": [
      "u - (?, 10)\n"
     ]
    }
   ],
   "source": [
    "u = tf.matmul(x, W) + b\n",
    "print(\"u -\", u.get_shape())"
   ]
  },
  {
   "cell_type": "code",
   "execution_count": 22,
   "metadata": {
    "collapsed": true
   },
   "outputs": [],
   "source": [
    "### 4) Target Setup\n",
    "learning_rate = 0.05\n",
    "error = tf.reduce_mean(tf.nn.softmax_cross_entropy_with_logits(logits=u, labels=y_target))\n",
    "optimizer = tf.train.GradientDescentOptimizer(0.05).minimize(error)"
   ]
  },
  {
   "cell_type": "code",
   "execution_count": 23,
   "metadata": {},
   "outputs": [
    {
     "name": "stdout",
     "output_type": "stream",
     "text": [
      "Total batch: 550\n",
      "Epoch:  0, Train Error: 2.30271, Validation Error: 2.30257, Test Accuracy: 0.09800\n",
      "Epoch:  1, Train Error: 0.45271, Validation Error: 0.43196, Test Accuracy: 0.89060\n",
      "Epoch:  2, Train Error: 0.38925, Validation Error: 0.36746, Test Accuracy: 0.90360\n",
      "Epoch:  3, Train Error: 0.36047, Validation Error: 0.33964, Test Accuracy: 0.90810\n",
      "Epoch:  4, Train Error: 0.34395, Validation Error: 0.32442, Test Accuracy: 0.91060\n",
      "Epoch:  5, Train Error: 0.33301, Validation Error: 0.31441, Test Accuracy: 0.91420\n",
      "Epoch:  6, Train Error: 0.32411, Validation Error: 0.30662, Test Accuracy: 0.91530\n",
      "Epoch:  7, Train Error: 0.31874, Validation Error: 0.30172, Test Accuracy: 0.91760\n",
      "Epoch:  8, Train Error: 0.31230, Validation Error: 0.29646, Test Accuracy: 0.91710\n",
      "Epoch:  9, Train Error: 0.30776, Validation Error: 0.29222, Test Accuracy: 0.91770\n",
      "Epoch: 10, Train Error: 0.30408, Validation Error: 0.28889, Test Accuracy: 0.91750\n",
      "Epoch: 11, Train Error: 0.30156, Validation Error: 0.28731, Test Accuracy: 0.91850\n",
      "Epoch: 12, Train Error: 0.29805, Validation Error: 0.28464, Test Accuracy: 0.91960\n",
      "Epoch: 13, Train Error: 0.29537, Validation Error: 0.28246, Test Accuracy: 0.91970\n",
      "Epoch: 14, Train Error: 0.29301, Validation Error: 0.28108, Test Accuracy: 0.92070\n",
      "Epoch: 15, Train Error: 0.29119, Validation Error: 0.27938, Test Accuracy: 0.92060\n",
      "Epoch: 16, Train Error: 0.28949, Validation Error: 0.27832, Test Accuracy: 0.92030\n",
      "Epoch: 17, Train Error: 0.28727, Validation Error: 0.27642, Test Accuracy: 0.92080\n",
      "Epoch: 18, Train Error: 0.28584, Validation Error: 0.27569, Test Accuracy: 0.92090\n",
      "Epoch: 19, Train Error: 0.28438, Validation Error: 0.27453, Test Accuracy: 0.92100\n",
      "Epoch: 20, Train Error: 0.28304, Validation Error: 0.27311, Test Accuracy: 0.92240\n",
      "Epoch: 21, Train Error: 0.28225, Validation Error: 0.27405, Test Accuracy: 0.92180\n",
      "Epoch: 22, Train Error: 0.28115, Validation Error: 0.27264, Test Accuracy: 0.92320\n",
      "Epoch: 23, Train Error: 0.27920, Validation Error: 0.27119, Test Accuracy: 0.92230\n",
      "Epoch: 24, Train Error: 0.27864, Validation Error: 0.27079, Test Accuracy: 0.92240\n",
      "Epoch: 25, Train Error: 0.27729, Validation Error: 0.27050, Test Accuracy: 0.92250\n",
      "Epoch: 26, Train Error: 0.27658, Validation Error: 0.26995, Test Accuracy: 0.92270\n",
      "Epoch: 27, Train Error: 0.27627, Validation Error: 0.26899, Test Accuracy: 0.92110\n",
      "Epoch: 28, Train Error: 0.27525, Validation Error: 0.26944, Test Accuracy: 0.92200\n",
      "Epoch: 29, Train Error: 0.27399, Validation Error: 0.26779, Test Accuracy: 0.92250\n",
      "Epoch: 30, Train Error: 0.27327, Validation Error: 0.26776, Test Accuracy: 0.92220\n",
      "Epoch: 31, Train Error: 0.27270, Validation Error: 0.26776, Test Accuracy: 0.92370\n",
      "Epoch: 32, Train Error: 0.27150, Validation Error: 0.26649, Test Accuracy: 0.92280\n",
      "Epoch: 33, Train Error: 0.27134, Validation Error: 0.26669, Test Accuracy: 0.92350\n",
      "Epoch: 34, Train Error: 0.27107, Validation Error: 0.26694, Test Accuracy: 0.92170\n",
      "Epoch: 35, Train Error: 0.26950, Validation Error: 0.26540, Test Accuracy: 0.92310\n",
      "Epoch: 36, Train Error: 0.26929, Validation Error: 0.26501, Test Accuracy: 0.92290\n",
      "Epoch: 37, Train Error: 0.26862, Validation Error: 0.26503, Test Accuracy: 0.92300\n",
      "Epoch: 38, Train Error: 0.26789, Validation Error: 0.26452, Test Accuracy: 0.92280\n",
      "Epoch: 39, Train Error: 0.26767, Validation Error: 0.26472, Test Accuracy: 0.92450\n",
      "Epoch: 40, Train Error: 0.26700, Validation Error: 0.26396, Test Accuracy: 0.92200\n",
      "Epoch: 41, Train Error: 0.26660, Validation Error: 0.26364, Test Accuracy: 0.92350\n",
      "Epoch: 42, Train Error: 0.26642, Validation Error: 0.26355, Test Accuracy: 0.92300\n",
      "Epoch: 43, Train Error: 0.26585, Validation Error: 0.26377, Test Accuracy: 0.92290\n",
      "Epoch: 44, Train Error: 0.26541, Validation Error: 0.26364, Test Accuracy: 0.92310\n",
      "Epoch: 45, Train Error: 0.26461, Validation Error: 0.26275, Test Accuracy: 0.92310\n",
      "Epoch: 46, Train Error: 0.26421, Validation Error: 0.26297, Test Accuracy: 0.92300\n",
      "Epoch: 47, Train Error: 0.26387, Validation Error: 0.26303, Test Accuracy: 0.92260\n",
      "Epoch: 48, Train Error: 0.26393, Validation Error: 0.26310, Test Accuracy: 0.92260\n",
      "Epoch: 49, Train Error: 0.26329, Validation Error: 0.26197, Test Accuracy: 0.92280\n"
     ]
    }
   ],
   "source": [
    "## 4. Learning (Training) & Evaluation\n",
    "prediction_and_ground_truth = tf.equal(tf.argmax(u, 1), tf.argmax(y_target, 1))\n",
    "accuracy = tf.reduce_mean(tf.cast(prediction_and_ground_truth, tf.float32))\n",
    "with tf.Session() as sess:\n",
    "    init = tf.global_variables_initializer()\n",
    "    sess.run(init)\n",
    "    \n",
    "    batch_size = 100\n",
    "    total_batch = int(math.ceil(mnist.train.num_examples/float(batch_size)))\n",
    "    print(\"Total batch: %d\" % total_batch)    \n",
    "\n",
    "    training_epochs = 50\n",
    "    epoch_list = []\n",
    "    train_error_list = []\n",
    "    validation_error_list = []\n",
    "    test_accuracy_list = []\n",
    "    for epoch in range(training_epochs):\n",
    "        epoch_list.append(epoch)\n",
    "        # Train Error Value\n",
    "        train_error_value = sess.run(error, feed_dict={x: mnist.train.images, y_target: mnist.train.labels})\n",
    "        train_error_list.append(train_error_value)\n",
    "        \n",
    "        validation_error_value = sess.run(error, feed_dict={x: mnist.validation.images, y_target: mnist.validation.labels})\n",
    "        validation_error_list.append(validation_error_value)\n",
    "        \n",
    "        test_accuracy_value = sess.run(accuracy, feed_dict={x: mnist.test.images, y_target: mnist.test.labels})\n",
    "        test_accuracy_list.append(test_accuracy_value) \n",
    "        print(\"Epoch: {0:2d}, Train Error: {1:0.5f}, Validation Error: {2:0.5f}, Test Accuracy: {3:0.5f}\".format(epoch, train_error_value, validation_error_value, test_accuracy_value))\n",
    "        \n",
    "        for i in range(total_batch):\n",
    "            batch_images, batch_labels = mnist.train.next_batch(batch_size)\n",
    "            sess.run(optimizer, feed_dict={x: batch_images, y_target: batch_labels})"
   ]
  },
  {
   "cell_type": "code",
   "execution_count": 24,
   "metadata": {},
   "outputs": [
    {
     "data": {
      "image/png": "[encoded data removed]",
      "text/plain": [
       "<matplotlib.figure.Figure at 0x237d05e6ef0>"
      ]
     },
     "metadata": {},
     "output_type": "display_data"
    },
    {
     "name": "stdout",
     "output_type": "stream",
     "text": [
      "[0 0 0 ..., 0 0 0]\n",
      "[7 2 1 ..., 4 5 6]\n",
      "Number of False Prediction: 9020\n",
      "False Prediction Index: 0, Prediction: 0, Ground Truth: 7\n",
      "False Prediction Index: 1, Prediction: 0, Ground Truth: 2\n",
      "False Prediction Index: 2, Prediction: 0, Ground Truth: 1\n",
      "False Prediction Index: 4, Prediction: 0, Ground Truth: 4\n",
      "False Prediction Index: 5, Prediction: 0, Ground Truth: 1\n"
     ]
    },
    {
     "data": {
      "image/png": "[encoded data removed]",
      "text/plain": [
       "<matplotlib.figure.Figure at 0x237d034ffd0>"
      ]
     },
     "metadata": {},
     "output_type": "display_data"
    }
   ],
   "source": [
    "## Analysis with Graph\n",
    "# Draw Graph about Error Values & Accuracy Values\n",
    "def draw_error_values_and_accuracy(epoch_list, train_error_list, validation_error_list, test_accuracy_list):\n",
    "    # Draw Error Values and Accuracy\n",
    "    fig = plt.figure(figsize=(20, 5))\n",
    "    plt.subplot(121)\n",
    "    plt.plot(epoch_list[1:], train_error_list[1:], 'r', label='Train')\n",
    "    plt.plot(epoch_list[1:], validation_error_list[1:], 'g', label='Validation')\n",
    "    plt.ylabel('Total Error')\n",
    "    plt.xlabel('Epochs')\n",
    "    plt.grid(True)\n",
    "    plt.legend(loc='upper right')\n",
    "\n",
    "    plt.subplot(122)\n",
    "    plt.plot(epoch_list[1:], test_accuracy_list[1:], 'b', label='Test')\n",
    "    plt.ylabel('Accuracy')\n",
    "    plt.xlabel('Epochs')\n",
    "    plt.yticks(np.arange(0.0, 1.0, 0.05))\n",
    "    plt.grid(True)\n",
    "    plt.legend(loc='lower right')\n",
    "    plt.show()\n",
    "\n",
    "draw_error_values_and_accuracy(epoch_list, train_error_list, validation_error_list, test_accuracy_list)\n",
    "    \n",
    "def draw_false_prediction(diff_index_list):\n",
    "    fig = plt.figure(figsize=(20, 5))\n",
    "    for i in range(5):\n",
    "        j = diff_index_list[i]\n",
    "        print(\"False Prediction Index: %s, Prediction: %s, Ground Truth: %s\" % (j, prediction[j], ground_truth[j]))\n",
    "        img = np.array(mnist.test.images[j])\n",
    "        img.shape = (28, 28)\n",
    "        plt.subplot(150 + (i+1))\n",
    "        plt.imshow(img, cmap='gray')\n",
    "        \n",
    "with tf.Session() as sess:      \n",
    "    init = tf.global_variables_initializer()\n",
    "    sess.run(init)\n",
    "    # False Prediction Profile\n",
    "    prediction = sess.run(tf.argmax(u, 1), feed_dict={x:mnist.test.images})\n",
    "    ground_truth = sess.run(tf.argmax(y_target, 1), feed_dict={y_target:mnist.test.labels})\n",
    "\n",
    "    print(prediction)\n",
    "    print(ground_truth)\n",
    "\n",
    "    diff_index_list = []\n",
    "    for i in range(mnist.test.num_examples):\n",
    "        if (prediction[i] != ground_truth[i]):\n",
    "            diff_index_list.append(i)\n",
    "            \n",
    "    print(\"Number of False Prediction:\", len(diff_index_list))\n",
    "    draw_false_prediction(diff_index_list)"
   ]
  }
 ],
 "metadata": {
  "kernelspec": {
   "display_name": "Python 3",
   "language": "python",
   "name": "python3"
  },
  "language_info": {
   "codemirror_mode": {
    "name": "ipython",
    "version": 3
   },
   "file_extension": ".py",
   "mimetype": "text/x-python",
   "name": "python",
   "nbconvert_exporter": "python",
   "pygments_lexer": "ipython3",
   "version": "3.5.3"
  }
 },
 "nbformat": 4,
 "nbformat_minor": 2
}
